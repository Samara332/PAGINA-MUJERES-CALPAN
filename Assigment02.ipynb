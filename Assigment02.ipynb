{
  "nbformat": 4,
  "nbformat_minor": 0,
  "metadata": {
    "colab": {
      "provenance": [],
      "authorship_tag": "ABX9TyPyrURHZ836g1+eUtyc/SHQ",
      "include_colab_link": true
    },
    "kernelspec": {
      "name": "python3",
      "display_name": "Python 3"
    },
    "language_info": {
      "name": "python"
    }
  },
  "cells": [
    {
      "cell_type": "markdown",
      "metadata": {
        "id": "view-in-github",
        "colab_type": "text"
      },
      "source": [
        "<a href=\"https://colab.research.google.com/github/Samara332/PAGINA-MUJERES-CALPAN/blob/main/Assigment02.ipynb\" target=\"_parent\"><img src=\"https://colab.research.google.com/assets/colab-badge.svg\" alt=\"Open In Colab\"/></a>"
      ]
    },
    {
      "cell_type": "markdown",
      "source": [
        "**Módulo 4**\n",
        "\n",
        "---\n",
        "\n"
      ],
      "metadata": {
        "id": "GHViqOQYSomN"
      }
    },
    {
      "cell_type": "code",
      "source": [
        "#Módulo 4\n",
        "#Reading files with open\n",
        "#Writing files with open\n",
        "#Loading data with Pandas\n",
        "#Working with and Saving data with Pandas"
      ],
      "metadata": {
        "id": "Ib-CUNnMXqSK"
      },
      "execution_count": null,
      "outputs": []
    },
    {
      "cell_type": "markdown",
      "source": [
        "**Reading files with Open**"
      ],
      "metadata": {
        "id": "DdLlMaPpYXI7"
      }
    },
    {
      "cell_type": "code",
      "source": [
        "#With this open function we can obtain data from a text file for example:\n",
        "# File 1 = open(\"/resources/data/Example2.txt, \"w\")\n",
        "#we only need to declare the open function, followed by the path of the text file in our PC\n",
        "#If we use the with statement netx to the open function, it automatically closes the file at the end of the indent\n",
        "#With the statement readlines we can output every line in a list, we can usea loop to print every line"
      ],
      "metadata": {
        "id": "tcHBEKVOYNqT"
      },
      "execution_count": 19,
      "outputs": []
    },
    {
      "cell_type": "code",
      "source": [
        "\n",
        "#Downloading the file (I couldn´t do it like it said in the lab file but it still worked)\n",
        "import requests\n",
        "url = \"https://cf-courses-data.s3.us.cloud-object-storage.appdomain.cloud/IBMDeveloperSkillsNetwork-PY0101EN-SkillsNetwork/labs/Module%204/data/example1.txt\"\n",
        "myfile = requests.get(url)\n",
        "open('downloads', 'wb').write(myfile.content)\n",
        "\n"
      ],
      "metadata": {
        "colab": {
          "base_uri": "https://localhost:8080/"
        },
        "id": "-xHtPMNbaAy8",
        "outputId": "ce6a18e4-6aeb-46dd-e9bc-0cb32d0518ae"
      },
      "execution_count": 17,
      "outputs": [
        {
          "output_type": "execute_result",
          "data": {
            "text/plain": [
              "45"
            ]
          },
          "metadata": {},
          "execution_count": 17
        }
      ]
    },
    {
      "cell_type": "code",
      "source": [
        "#Reading the file\n",
        "example1 = \"Example1.txt\"\n",
        "file1 = open(example1, \"r\")\n"
      ],
      "metadata": {
        "id": "DyLWA9qPggrt"
      },
      "execution_count": 22,
      "outputs": []
    },
    {
      "cell_type": "code",
      "source": [
        "#Printing the name of the file \n",
        "file1.name"
      ],
      "metadata": {
        "colab": {
          "base_uri": "https://localhost:8080/",
          "height": 36
        },
        "id": "PKs2e1ZCg0M8",
        "outputId": "6ffb0672-3d26-48ca-fde5-83188e5a5617"
      },
      "execution_count": 21,
      "outputs": [
        {
          "output_type": "execute_result",
          "data": {
            "text/plain": [
              "'Example3.txt'"
            ],
            "application/vnd.google.colaboratory.intrinsic+json": {
              "type": "string"
            }
          },
          "metadata": {},
          "execution_count": 21
        }
      ]
    },
    {
      "cell_type": "code",
      "source": [
        "#Printing the mode of file write or read\n",
        "file1.mode"
      ],
      "metadata": {
        "colab": {
          "base_uri": "https://localhost:8080/",
          "height": 36
        },
        "id": "6dM50kZNhDSN",
        "outputId": "da70106b-c271-4457-ff03-bbfd3e785933"
      },
      "execution_count": null,
      "outputs": [
        {
          "output_type": "execute_result",
          "data": {
            "text/plain": [
              "'r'"
            ],
            "application/vnd.google.colaboratory.intrinsic+json": {
              "type": "string"
            }
          },
          "metadata": {},
          "execution_count": 28
        }
      ]
    },
    {
      "cell_type": "code",
      "source": [
        "#Reading the file\n",
        "\n",
        "FileContent = file1.read()\n",
        "FileContent"
      ],
      "metadata": {
        "colab": {
          "base_uri": "https://localhost:8080/",
          "height": 36
        },
        "id": "PgXkL_8OhNY4",
        "outputId": "c0d6150f-74e4-44ac-ff4d-dec52e6c5866"
      },
      "execution_count": null,
      "outputs": [
        {
          "output_type": "execute_result",
          "data": {
            "text/plain": [
              "'This is line 1 \\nThis is line 2\\nThis is line 3'"
            ],
            "application/vnd.google.colaboratory.intrinsic+json": {
              "type": "string"
            }
          },
          "metadata": {},
          "execution_count": 29
        }
      ]
    },
    {
      "cell_type": "code",
      "source": [
        "#Giving space between every line of the text file\n",
        "print(FileContent)"
      ],
      "metadata": {
        "colab": {
          "base_uri": "https://localhost:8080/"
        },
        "id": "dbdzIu0rhSJ9",
        "outputId": "c60ea580-add2-49de-ff79-a53effea1949"
      },
      "execution_count": null,
      "outputs": [
        {
          "output_type": "stream",
          "name": "stdout",
          "text": [
            "This is line 1 \n",
            "This is line 2\n",
            "This is line 3\n"
          ]
        }
      ]
    },
    {
      "cell_type": "code",
      "source": [
        "#Returning the type of data of the file\n",
        "type(FileContent)"
      ],
      "metadata": {
        "colab": {
          "base_uri": "https://localhost:8080/"
        },
        "id": "p7T92X_jhYqh",
        "outputId": "afa8fca2-c929-4354-d61c-e3f73d70d68b"
      },
      "execution_count": null,
      "outputs": [
        {
          "output_type": "execute_result",
          "data": {
            "text/plain": [
              "str"
            ]
          },
          "metadata": {},
          "execution_count": 32
        }
      ]
    },
    {
      "cell_type": "code",
      "source": [
        "#Closing the file\n",
        "file1.close()"
      ],
      "metadata": {
        "id": "vk4ymeaAhgtu"
      },
      "execution_count": null,
      "outputs": []
    },
    {
      "cell_type": "code",
      "source": [
        "#Using with to automatically closing the file \n",
        "\n",
        "with open(example1, \"r\") as file1:\n",
        "    FileContent = file1.read()\n",
        "    print(FileContent)"
      ],
      "metadata": {
        "colab": {
          "base_uri": "https://localhost:8080/"
        },
        "id": "PCoJCdqahkmG",
        "outputId": "ac6e2228-16ec-4178-b739-620e88da683d"
      },
      "execution_count": null,
      "outputs": [
        {
          "output_type": "stream",
          "name": "stdout",
          "text": [
            "This is line 1 \n",
            "This is line 2\n",
            "This is line 3\n"
          ]
        }
      ]
    },
    {
      "cell_type": "code",
      "source": [
        "#Now we can verufy if the file is closed \n",
        "file1.closed"
      ],
      "metadata": {
        "colab": {
          "base_uri": "https://localhost:8080/"
        },
        "id": "SlSmDjfEhrFm",
        "outputId": "91544587-c138-4622-ef1b-611596bb9ac6"
      },
      "execution_count": null,
      "outputs": [
        {
          "output_type": "execute_result",
          "data": {
            "text/plain": [
              "True"
            ]
          },
          "metadata": {},
          "execution_count": 36
        }
      ]
    },
    {
      "cell_type": "code",
      "source": [
        "#See the content of the file\n",
        "print(FileContent)"
      ],
      "metadata": {
        "colab": {
          "base_uri": "https://localhost:8080/"
        },
        "id": "DZHUrg3oh1c0",
        "outputId": "4ae74bf8-509d-45b6-e01e-1f5821d63be2"
      },
      "execution_count": null,
      "outputs": [
        {
          "output_type": "stream",
          "name": "stdout",
          "text": [
            "This is line 1 \n",
            "This is line 2\n",
            "This is line 3\n"
          ]
        }
      ]
    },
    {
      "cell_type": "code",
      "source": [
        "#If we use the index, we can read specific characters\n",
        "# Read first four characters\n",
        "\n",
        "with open(example1, \"r\") as file1:\n",
        "    print(file1.read(4))"
      ],
      "metadata": {
        "colab": {
          "base_uri": "https://localhost:8080/"
        },
        "id": "ByyCvkY-h63z",
        "outputId": "cba94c5e-b35b-4904-a7f1-67f4a5103796"
      },
      "execution_count": null,
      "outputs": [
        {
          "output_type": "stream",
          "name": "stdout",
          "text": [
            "This\n"
          ]
        }
      ]
    },
    {
      "cell_type": "code",
      "source": [
        "with open(example1, \"r\") as file1:\n",
        "    print(file1.read(4))\n",
        "    print(file1.read(5))\n",
        "    print(file1.read(7))\n",
        "    print(file1.read(15))"
      ],
      "metadata": {
        "colab": {
          "base_uri": "https://localhost:8080/"
        },
        "id": "vNAiYY46jNcn",
        "outputId": "476b6c96-0034-417c-85c7-f067842a9522"
      },
      "execution_count": null,
      "outputs": [
        {
          "output_type": "stream",
          "name": "stdout",
          "text": [
            "This\n",
            " is l\n",
            "ine 1 \n",
            "\n",
            "This is line 2\n",
            "\n"
          ]
        }
      ]
    },
    {
      "cell_type": "code",
      "source": [
        "#Reading only the firts line \n",
        "with open(example1, \"r\") as file1:\n",
        "    print(\"first line: \" + file1.readline())"
      ],
      "metadata": {
        "colab": {
          "base_uri": "https://localhost:8080/"
        },
        "id": "8k1mr77PjqAm",
        "outputId": "42fa4b63-ce92-4bbc-d7d7-dc7e30a3fbbd"
      },
      "execution_count": null,
      "outputs": [
        {
          "output_type": "stream",
          "name": "stdout",
          "text": [
            "first line: This is line 1 \n",
            "\n"
          ]
        }
      ]
    },
    {
      "cell_type": "code",
      "source": [
        "#Reading all the lines and closing automatically \n",
        "with open(example1,\"r\") as file1:\n",
        "        i = 0;\n",
        "        for k in file1:\n",
        "            print(\"Cicle \", str(i), \": \", k)\n",
        "            i = i + 1"
      ],
      "metadata": {
        "colab": {
          "base_uri": "https://localhost:8080/"
        },
        "id": "ZBohQWCQjvWt",
        "outputId": "632574d1-6c2b-4c8d-d0e7-51fadd424169"
      },
      "execution_count": null,
      "outputs": [
        {
          "output_type": "stream",
          "name": "stdout",
          "text": [
            "Cicle  0 :  This is line 1 \n",
            "\n",
            "Cicle  1 :  This is line 2\n",
            "\n",
            "Cicle  2 :  This is line 3\n"
          ]
        }
      ]
    },
    {
      "cell_type": "code",
      "source": [
        "#Save the lines as a list \n",
        "with open(example1, \"r\") as file1:\n",
        "    List1 = file1.readlines()\n",
        "    print(List1)"
      ],
      "metadata": {
        "colab": {
          "base_uri": "https://localhost:8080/"
        },
        "id": "qzeW3hQej_PM",
        "outputId": "8ed09784-d3e7-451a-8a12-198db87b0913"
      },
      "execution_count": null,
      "outputs": [
        {
          "output_type": "stream",
          "name": "stdout",
          "text": [
            "['This is line 1 \\n', 'This is line 2\\n', 'This is line 3']\n"
          ]
        }
      ]
    },
    {
      "cell_type": "code",
      "source": [
        "#Print specific line\n",
        "List1[2]"
      ],
      "metadata": {
        "colab": {
          "base_uri": "https://localhost:8080/",
          "height": 36
        },
        "id": "i3uIKH_3kP2M",
        "outputId": "90863406-b666-40b1-8fb4-dd177ad68330"
      },
      "execution_count": null,
      "outputs": [
        {
          "output_type": "execute_result",
          "data": {
            "text/plain": [
              "'This is line 3'"
            ],
            "application/vnd.google.colaboratory.intrinsic+json": {
              "type": "string"
            }
          },
          "metadata": {},
          "execution_count": 47
        }
      ]
    },
    {
      "cell_type": "code",
      "source": [
        "List1[0]"
      ],
      "metadata": {
        "colab": {
          "base_uri": "https://localhost:8080/",
          "height": 36
        },
        "id": "CWifwXEqkYFC",
        "outputId": "d01c5a8c-7f37-46e2-dbaf-bff6d12fd829"
      },
      "execution_count": null,
      "outputs": [
        {
          "output_type": "execute_result",
          "data": {
            "text/plain": [
              "'This is line 1 \\n'"
            ],
            "application/vnd.google.colaboratory.intrinsic+json": {
              "type": "string"
            }
          },
          "metadata": {},
          "execution_count": 49
        }
      ]
    },
    {
      "cell_type": "markdown",
      "source": [
        "**Writing files with open**\n",
        "\n",
        "---\n",
        "\n"
      ],
      "metadata": {
        "id": "4Hv0kaQ6ZrXk"
      }
    },
    {
      "cell_type": "code",
      "source": [
        "#File object \n",
        "#File1 = open (\"/resources/data/Example2.txt\", \"w\") as file 1\n",
        "#As we can see here we have a w instead of a r for write \n",
        "#Read\n",
        "  with open (\"Example1.txt\", \"r\")\n",
        "#Write\n",
        "  with open (\"Example1.txt\", \"w\")"
      ],
      "metadata": {
        "id": "Qtj5BhQ_ZvkF"
      },
      "execution_count": null,
      "outputs": []
    },
    {
      "cell_type": "code",
      "source": [
        "#with open(\"Example1.txt\",\"r\")as readfile:\n",
        "  #with open(\"Example3.txt\", \"w\") as writefile:\n",
        "    #for line in readfiles:\n",
        "      #writefile.write(line)"
      ],
      "metadata": {
        "id": "TGmpybDKa6AA"
      },
      "execution_count": null,
      "outputs": []
    },
    {
      "cell_type": "code",
      "source": [
        "# Write line to file example 2\n",
        "exmp2 = 'Example2.txt'\n",
        "with open(exmp2, 'w') as writefile:\n",
        "    writefile.write(\"This is line SAM\")"
      ],
      "metadata": {
        "id": "6CsuDm2Ub-Li"
      },
      "execution_count": null,
      "outputs": []
    },
    {
      "cell_type": "code",
      "source": [
        "# Read file example2\n",
        "\n",
        "with open(exmp2, 'r') as testwritefile:\n",
        "    print(testwritefile.read())"
      ],
      "metadata": {
        "colab": {
          "base_uri": "https://localhost:8080/"
        },
        "id": "s85lGfb3cCyE",
        "outputId": "ab62ab3e-ba38-4e3f-eaca-6cc756e77a3a"
      },
      "execution_count": null,
      "outputs": [
        {
          "output_type": "stream",
          "name": "stdout",
          "text": [
            "This is line SAM\n"
          ]
        }
      ]
    },
    {
      "cell_type": "code",
      "source": [
        "#writing multiple lines\n",
        "\n",
        "with open(exmp2, 'w') as writefile:\n",
        "    writefile.write(\"Esta es la linea 1 SAM\\n\")\n",
        "    writefile.write(\"Esta es la linea 2 SAM\\n\")\n",
        "    "
      ],
      "metadata": {
        "id": "KLu5q1rncK5I"
      },
      "execution_count": null,
      "outputs": []
    },
    {
      "cell_type": "code",
      "source": [
        "#Reading the example 2\n",
        "with open(exmp2, 'r') as testwritefile:\n",
        "    print(testwritefile.read())"
      ],
      "metadata": {
        "colab": {
          "base_uri": "https://localhost:8080/"
        },
        "id": "GTO6qaoCcruA",
        "outputId": "deeeb6e1-9a62-4575-b272-17d8fab27c0d"
      },
      "execution_count": null,
      "outputs": [
        {
          "output_type": "stream",
          "name": "stdout",
          "text": [
            "Esta es la linea 1 SAM\n",
            "Esta es la linea 2 SAM\n",
            "\n"
          ]
        }
      ]
    },
    {
      "cell_type": "markdown",
      "source": [
        "**Appending files**\n",
        "\n",
        "---\n",
        "\n"
      ],
      "metadata": {
        "id": "Zy4GnoUKdb_y"
      }
    },
    {
      "cell_type": "code",
      "source": [
        "#Writing new line to text file \n",
        "with open('Example2.txt', 'a') as testwritefile1:\n",
        "    testwritefile1.write(\"Esta es la linea 3\\n\")\n",
        "    testwritefile1.write(\"Esta es la linea 4\\n\")\n",
        "    testwritefile1.write(\"Esta es la linea 5\\n\")\n"
      ],
      "metadata": {
        "id": "9fZlE9vcdhW7"
      },
      "execution_count": null,
      "outputs": []
    },
    {
      "cell_type": "code",
      "source": [
        "#Reading \n",
        "with open('Example2.txt', 'r') as testwritefile1:\n",
        "    print(testwritefile1.read())"
      ],
      "metadata": {
        "colab": {
          "base_uri": "https://localhost:8080/"
        },
        "id": "UIlHuyNKeB71",
        "outputId": "a678fccb-b2fc-4370-f9fb-4a6e416f35d2"
      },
      "execution_count": null,
      "outputs": [
        {
          "output_type": "stream",
          "name": "stdout",
          "text": [
            "Esta es la linea 1 SAM\n",
            "Esta es la linea 2 SAM\n",
            "Esta es la linea 3\n",
            "Esta es la linea 4\n",
            "Esta es la linea 5\n",
            "Esta es la linea 3\n",
            "Esta es la linea 4\n",
            "Esta es la linea 5\n",
            "Esta es la linea 3\n",
            "Esta es la linea 4\n",
            "Esta es la linea 5\n",
            "\n"
          ]
        }
      ]
    },
    {
      "cell_type": "code",
      "source": [
        "#r+ : Reading and writing. Cannot truncate the file.\n",
        "#w+ : Writing and reading. Truncates the file.\n",
        "#a+ : Appending and Reading. Creates a new file, if none exists."
      ],
      "metadata": {
        "id": "oKAZmbjqeM3G"
      },
      "execution_count": null,
      "outputs": []
    },
    {
      "cell_type": "code",
      "source": [
        "#Here we can see there is no output\n",
        "with open('Example2.txt', 'a+') as testwritefile:\n",
        "    testwritefile.write(\"This is line E\\n\")\n",
        "    print(testwritefile.read())"
      ],
      "metadata": {
        "colab": {
          "base_uri": "https://localhost:8080/"
        },
        "id": "x7bY7kDjeP66",
        "outputId": "6ee563e4-b14f-4a44-ed6e-f7a8f7194da3"
      },
      "execution_count": 1,
      "outputs": [
        {
          "output_type": "stream",
          "name": "stdout",
          "text": [
            "\n"
          ]
        }
      ]
    },
    {
      "cell_type": "code",
      "source": [
        "#Reading the new line \n",
        "with open('Example2.txt', 'r') as testwritefile:\n",
        "    print(testwritefile.read())"
      ],
      "metadata": {
        "id": "HD0Ab1LhFger",
        "outputId": "535cca3f-e135-4843-d6e8-c1e8826dd90a",
        "colab": {
          "base_uri": "https://localhost:8080/"
        }
      },
      "execution_count": 2,
      "outputs": [
        {
          "output_type": "stream",
          "name": "stdout",
          "text": [
            "This is line E\n",
            "\n"
          ]
        }
      ]
    },
    {
      "cell_type": "markdown",
      "source": [
        "**Additional modes**\n",
        "\n",
        "---\n",
        "\n"
      ],
      "metadata": {
        "id": "OZFvBslRFoWo"
      }
    },
    {
      "cell_type": "code",
      "source": [
        "#a+ : Appending and Reading. Creates a new file, if none exists.\n",
        "with open('Example2.txt', 'a+') as testwritefile:\n",
        "    testwritefile.write(\"This is line E\\n\")\n",
        "    print(testwritefile.read())\n",
        "#There is no error but no response either because Most of the file methods we've looked at work in a certain location in the file. .write()  writes at a certain location in the file. .read() reads at a certain location in the file and so on. "
      ],
      "metadata": {
        "id": "HuXRxgwzFsg9",
        "outputId": "e0433904-d83b-427c-aeb1-c39c06e593bc",
        "colab": {
          "base_uri": "https://localhost:8080/"
        }
      },
      "execution_count": 7,
      "outputs": [
        {
          "output_type": "stream",
          "name": "stdout",
          "text": [
            "\n"
          ]
        }
      ]
    },
    {
      "cell_type": "code",
      "source": [
        "#r+ : Reading and writing. Cannot truncate the file.\n",
        "with open('Example2.txt', 'r+') as testwritefile:\n",
        "    data = testwritefile.readlines()\n",
        "    testwritefile.seek(0,0) #WRITE AT THE BEGGINING OF THE TEXT FILE "
      ],
      "metadata": {
        "id": "Ad0_Y8PXGZHh"
      },
      "execution_count": 8,
      "outputs": []
    },
    {
      "cell_type": "code",
      "source": [
        "#w+ : Writing and reading. Truncates the file.\n",
        "with open('Example2.txt', 'w') as writefile:\n",
        "    writefile.write(\"SOBREESCRIBIENDO\\n\")\n",
        "with open('Example2.txt', 'r') as testwritefile:\n",
        "    print(testwritefile.read())"
      ],
      "metadata": {
        "id": "3gLq7lFpG8SM",
        "outputId": "4eb4d786-7cdc-479d-bc27-fefb22215a3e",
        "colab": {
          "base_uri": "https://localhost:8080/"
        }
      },
      "execution_count": 10,
      "outputs": [
        {
          "output_type": "stream",
          "name": "stdout",
          "text": [
            "SOBREESCRIBIENDO\n",
            "\n"
          ]
        }
      ]
    },
    {
      "cell_type": "code",
      "source": [
        "#Copy a file \n",
        "with open('Example2.txt','r') as readfile:\n",
        "    with open('Example3.txt','w') as writefile:\n",
        "          for line in readfile:\n",
        "                writefile.write(line)"
      ],
      "metadata": {
        "id": "HrGRsXIbHWQ9"
      },
      "execution_count": 11,
      "outputs": []
    },
    {
      "cell_type": "code",
      "source": [
        "with open('Example3.txt','r') as testwritefile:\n",
        "    print(testwritefile.read())"
      ],
      "metadata": {
        "id": "Yp-XWFHSHcRM",
        "outputId": "4716f4df-82e7-461b-ce8d-bcb159a96a9d",
        "colab": {
          "base_uri": "https://localhost:8080/"
        }
      },
      "execution_count": 27,
      "outputs": [
        {
          "output_type": "stream",
          "name": "stdout",
          "text": [
            "SOBREESCRIBIENDO\n",
            "\n"
          ]
        }
      ]
    },
    {
      "cell_type": "code",
      "source": [
        "#Exercise :"
      ],
      "metadata": {
        "id": "b71hg7i8J9Oa"
      },
      "execution_count": null,
      "outputs": []
    },
    {
      "cell_type": "code",
      "source": [
        "from random import randint as rnd\n",
        "\n",
        "memReg = 'members.txt'\n",
        "exReg = 'inactive.txt'\n",
        "fee =('yes','no')\n",
        "\n",
        "def genFiles(current,old):\n",
        "    with open(current,'w+') as writefile: \n",
        "        writefile.write('Membership No  Date Joined  Active  \\n')\n",
        "        data = \"{:^13}  {:<11}  {:<6}\\n\"\n",
        "\n",
        "        for rowno in range(20):\n",
        "            date = str(rnd(2015,2020))+ '-' + str(rnd(1,12))+'-'+str(rnd(1,25))\n",
        "            writefile.write(data.format(rnd(10000,99999),date,fee[rnd(0,1)]))\n",
        "\n",
        "\n",
        "    with open(old,'w+') as writefile: \n",
        "        writefile.write('Membership No  Date Joined  Active  \\n')\n",
        "        data = \"{:^13}  {:<11}  {:<6}\\n\"\n",
        "        for rowno in range(3):\n",
        "            date = str(rnd(2015,2020))+ '-' + str(rnd(1,12))+'-'+str(rnd(1,25))\n",
        "            writefile.write(data.format(rnd(10000,99999),date,fee[1]))\n",
        "\n",
        "\n",
        "genFiles(memReg,exReg)\n",
        "\n",
        "\n",
        "def cleanFiles(currentMem, exMem):\n",
        "    # TODO: Open the currentMem file as in r+ mode\n",
        "    with open(currentMem, \"r+\") as readfile:\n",
        "        #TODO: Open the exMem file in a+ mode\n",
        "        #VAMOS A ANADIR A LOS ALUMNOS ELIMINADOS A EX MEMBERS\n",
        "        with open(exMem, \"a+\") as appendfile:\n",
        "        #TODO: Read each member in the currentMem (1 member per row) file into a list.\n",
        "        #In Python, seek() function is used to change the position of the File Handle to a given specific position.\n",
        "         readfile.seek(0)\n",
        "         members = readfile.readlines()\n",
        "        # Hint: Recall that the first line in the file is the header.\n",
        "        header = members[0]\n",
        "        members.pop(0)\n",
        "        #TODO: iterate through the members and create a new list of the innactive members\n",
        "        inactive = [member for member in members if ('no' in member)]\n",
        "        # Go to the beginning of the currentMem file\n",
        "        readfile.seek(0) \n",
        "        readfile.write(header)\n",
        "        # TODO: Iterate through the members list. \n",
        "        for i in members:\n",
        "                if (i in inactive):\n",
        "                  appendfile.write(i)\n",
        "                else:\n",
        "                    readfile.write(i)      \n",
        "                    readfile.truncate()\n",
        "\n",
        "                 \n",
        "        # If a member is inactive, add them to exMem, otherwise write them into currentMem\n",
        "\n",
        "# The code below is to help you view the files.\n",
        "# Do not modify this code for this exercise.\n",
        "memReg = 'members.txt'\n",
        "exReg = 'inactive.txt'\n",
        "cleanFiles(memReg,exReg)\n",
        "\n",
        "\n",
        "headers = \"Membership No  Date Joined  Active  \\n\"\n",
        "with open(memReg,'r') as readFile:\n",
        "    print(\"Active Members: \\n\\n\")\n",
        "    print(readFile.read())\n",
        "    \n",
        "with open(exReg,'r') as readFile:\n",
        "    print(\"Inactive Members: \\n\\n\")\n",
        "    print(readFile.read())"
      ],
      "metadata": {
        "id": "OsK5Lub5Kdo6",
        "outputId": "3260ae30-2c9a-4c82-89a7-56ba9f8ea756",
        "colab": {
          "base_uri": "https://localhost:8080/",
          "height": 356
        }
      },
      "execution_count": 36,
      "outputs": [
        {
          "output_type": "error",
          "ename": "ValueError",
          "evalue": "ignored",
          "traceback": [
            "\u001b[0;31m---------------------------------------------------------------------------\u001b[0m",
            "\u001b[0;31mValueError\u001b[0m                                Traceback (most recent call last)",
            "\u001b[0;32m<ipython-input-36-da0fc436c981>\u001b[0m in \u001b[0;36m<module>\u001b[0;34m\u001b[0m\n\u001b[1;32m     57\u001b[0m \u001b[0mmemReg\u001b[0m \u001b[0;34m=\u001b[0m \u001b[0;34m'members.txt'\u001b[0m\u001b[0;34m\u001b[0m\u001b[0;34m\u001b[0m\u001b[0m\n\u001b[1;32m     58\u001b[0m \u001b[0mexReg\u001b[0m \u001b[0;34m=\u001b[0m \u001b[0;34m'inactive.txt'\u001b[0m\u001b[0;34m\u001b[0m\u001b[0;34m\u001b[0m\u001b[0m\n\u001b[0;32m---> 59\u001b[0;31m \u001b[0mcleanFiles\u001b[0m\u001b[0;34m(\u001b[0m\u001b[0mmemReg\u001b[0m\u001b[0;34m,\u001b[0m\u001b[0mexReg\u001b[0m\u001b[0;34m)\u001b[0m\u001b[0;34m\u001b[0m\u001b[0;34m\u001b[0m\u001b[0m\n\u001b[0m\u001b[1;32m     60\u001b[0m \u001b[0;34m\u001b[0m\u001b[0m\n\u001b[1;32m     61\u001b[0m \u001b[0;34m\u001b[0m\u001b[0m\n",
            "\u001b[0;32m<ipython-input-36-da0fc436c981>\u001b[0m in \u001b[0;36mcleanFiles\u001b[0;34m(currentMem, exMem)\u001b[0m\n\u001b[1;32m     47\u001b[0m         \u001b[0;32mfor\u001b[0m \u001b[0mi\u001b[0m \u001b[0;32min\u001b[0m \u001b[0mmembers\u001b[0m\u001b[0;34m:\u001b[0m\u001b[0;34m\u001b[0m\u001b[0;34m\u001b[0m\u001b[0m\n\u001b[1;32m     48\u001b[0m                 \u001b[0;32mif\u001b[0m \u001b[0;34m(\u001b[0m\u001b[0mi\u001b[0m \u001b[0;32min\u001b[0m \u001b[0minactive\u001b[0m\u001b[0;34m)\u001b[0m\u001b[0;34m:\u001b[0m\u001b[0;34m\u001b[0m\u001b[0;34m\u001b[0m\u001b[0m\n\u001b[0;32m---> 49\u001b[0;31m                   \u001b[0mappendfile\u001b[0m\u001b[0;34m.\u001b[0m\u001b[0mwrite\u001b[0m\u001b[0;34m(\u001b[0m\u001b[0mi\u001b[0m\u001b[0;34m)\u001b[0m\u001b[0;34m\u001b[0m\u001b[0;34m\u001b[0m\u001b[0m\n\u001b[0m\u001b[1;32m     50\u001b[0m                 \u001b[0;32melse\u001b[0m\u001b[0;34m:\u001b[0m\u001b[0;34m\u001b[0m\u001b[0;34m\u001b[0m\u001b[0m\n\u001b[1;32m     51\u001b[0m                     \u001b[0mreadfile\u001b[0m\u001b[0;34m.\u001b[0m\u001b[0mwrite\u001b[0m\u001b[0;34m(\u001b[0m\u001b[0mi\u001b[0m\u001b[0;34m)\u001b[0m\u001b[0;34m\u001b[0m\u001b[0;34m\u001b[0m\u001b[0m\n",
            "\u001b[0;31mValueError\u001b[0m: I/O operation on closed file."
          ]
        }
      ]
    },
    {
      "cell_type": "code",
      "source": [
        "from random import randint as rnd\n",
        "\n",
        "memReg = 'members.txt'\n",
        "exReg = 'inactive.txt'\n",
        "fee =('yes','no')\n",
        "\n",
        "def genFiles(current,old):\n",
        "    with open(current,'w+') as writefile: \n",
        "        writefile.write('Membership No  Date Joined  Active  \\n')\n",
        "        data = \"{:^13}  {:<11}  {:<6}\\n\"\n",
        "\n",
        "        for rowno in range(20):\n",
        "            date = str(rnd(2015,2020))+ '-' + str(rnd(1,12))+'-'+str(rnd(1,25))\n",
        "            writefile.write(data.format(rnd(10000,99999),date,fee[rnd(0,1)]))\n",
        "\n",
        "\n",
        "    with open(old,'w+') as writefile: \n",
        "        writefile.write('Membership No  Date Joined  Active  \\n')\n",
        "        data = \"{:^13}  {:<11}  {:<6}\\n\"\n",
        "        for rowno in range(3):\n",
        "            date = str(rnd(2015,2020))+ '-' + str(rnd(1,12))+'-'+str(rnd(1,25))\n",
        "            writefile.write(data.format(rnd(10000,99999),date,fee[1]))\n",
        "\n",
        "\n",
        "genFiles(memReg,exReg)\n",
        "def cleanFiles(currentMem,exMem):\n",
        "    with open(currentMem,'r+') as writeFile: \n",
        "        with open(exMem,'a+') as appendFile:\n",
        "            #get the data\n",
        "            writeFile.seek(0)\n",
        "            members = writeFile.readlines()\n",
        "            #remove header\n",
        "            header = members[0]\n",
        "            members.pop(0)\n",
        "                \n",
        "            inactive = [member for member in members if ('no' in member)]\n",
        "            '''\n",
        "            The above is the same as \n",
        "\n",
        "            for member in members:\n",
        "            if 'no' in member:\n",
        "                inactive.append(member)\n",
        "            '''\n",
        "            #go to the beginning of the write file\n",
        "            writeFile.seek(0) \n",
        "            writeFile.write(header)\n",
        "            for member in members:\n",
        "                if (member in inactive):\n",
        "                    appendFile.write(member)\n",
        "                else:\n",
        "                    writeFile.write(member)      \n",
        "            writeFile.truncate()\n",
        "                \n",
        "memReg = 'members.txt'\n",
        "exReg = 'inactive.txt'\n",
        "cleanFiles(memReg,exReg)\n",
        "\n",
        "# code to help you see the files\n",
        "\n",
        "headers = \"Membership No  Date Joined  Active  \\n\"\n",
        "\n",
        "with open(memReg,'r') as readFile:\n",
        "    print(\"Active Members: \\n\\n\")\n",
        "    print(readFile.read())\n",
        "    \n",
        "with open(exReg,'r') as readFile:\n",
        "    print(\"Inactive Members: \\n\\n\")\n",
        "    print(readFile.read())\n",
        "    "
      ],
      "metadata": {
        "id": "nbg5EcIuQk0P",
        "outputId": "d07678bc-f11b-42d1-d88b-8197e8911cc0",
        "colab": {
          "base_uri": "https://localhost:8080/"
        }
      },
      "execution_count": 37,
      "outputs": [
        {
          "output_type": "stream",
          "name": "stdout",
          "text": [
            "Active Members: \n",
            "\n",
            "\n",
            "Membership No  Date Joined  Active  \n",
            "    98683      2016-4-15    yes   \n",
            "    18805      2017-3-13    yes   \n",
            "    34342      2018-6-9     yes   \n",
            "    25547      2015-10-12   yes   \n",
            "    86173      2017-2-15    yes   \n",
            "    50769      2019-7-15    yes   \n",
            "    31210      2017-12-21   yes   \n",
            "    99138      2018-8-14    yes   \n",
            "    12913      2017-1-15    yes   \n",
            "    68156      2015-3-15    yes   \n",
            "    62343      2016-8-11    yes   \n",
            "    86922      2020-3-11    yes   \n",
            "\n",
            "Inactive Members: \n",
            "\n",
            "\n",
            "Membership No  Date Joined  Active  \n",
            "    15390      2018-10-17   no    \n",
            "    14563      2020-4-23    no    \n",
            "    52663      2015-6-3     no    \n",
            "    74043      2020-9-23    no    \n",
            "    67900      2016-11-5    no    \n",
            "    59624      2019-9-16    no    \n",
            "    10970      2015-6-17    no    \n",
            "    52316      2018-2-4     no    \n",
            "    22282      2015-3-19    no    \n",
            "    31144      2018-8-13    no    \n",
            "    89250      2017-7-4     no    \n",
            "\n"
          ]
        }
      ]
    }
  ]
}